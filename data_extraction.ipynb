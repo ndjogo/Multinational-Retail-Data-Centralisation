{
 "cells": [
  {
   "cell_type": "code",
   "execution_count": 1,
   "metadata": {},
   "outputs": [],
   "source": [
    "import tabula\n",
    "import pandas as pd \n",
    "import datetime\n",
    "import boto3"
   ]
  },
  {
   "cell_type": "code",
   "execution_count": 39,
   "metadata": {},
   "outputs": [],
   "source": [
    "def to_date(x):\n",
    "    try:\n",
    "        x = list(map(int, x.split('-')))\n",
    "        date = datetime.date(x[0],x[1],x[2])\n",
    "    except Exception as e:\n",
    "        print(e) \n",
    "        date = None\n",
    "\n",
    "    return date\n",
    "\n",
    "\n",
    "def extract_pdf(pdf_url):\n",
    "    df = pd.concat(tabula.read_pdf(pdf_url, pages = 'all'))\n",
    "    df['date_payment_confirmed'] = df['date_payment_confirmed'].apply(to_date)\n",
    "    df['expiry_date'] = pd.to_datetime(df['expiry_date'],format = '%m/%y',errors= 'coerce').dt.date\n",
    "    return df\n",
    "    "
   ]
  },
  {
   "cell_type": "code",
   "execution_count": 40,
   "metadata": {},
   "outputs": [
    {
     "name": "stdout",
     "output_type": "stream",
     "text": [
      "invalid literal for int() with base 10: 'NULL'\n",
      "invalid literal for int() with base 10: 'GTC9KBWJO9'\n",
      "invalid literal for int() with base 10: 'NULL'\n",
      "invalid literal for int() with base 10: 'NULL'\n",
      "invalid literal for int() with base 10: 'DJIXF1AFAZ'\n",
      "invalid literal for int() with base 10: 'December 2021 17'\n",
      "invalid literal for int() with base 10: '2005 July 01'\n",
      "invalid literal for int() with base 10: 'NULL'\n",
      "invalid literal for int() with base 10: 'NULL'\n",
      "invalid literal for int() with base 10: 'NULL'\n",
      "invalid literal for int() with base 10: 'H2PCQP4W50'\n",
      "invalid literal for int() with base 10: 'NULL'\n",
      "invalid literal for int() with base 10: 'XTD27ANR5Q'\n",
      "invalid literal for int() with base 10: '7VGB4DA1WI'\n",
      "invalid literal for int() with base 10: 'NULL'\n",
      "invalid literal for int() with base 10: 'NULL'\n",
      "invalid literal for int() with base 10: 'RLQYRRYHPU'\n",
      "invalid literal for int() with base 10: 'December 2000 01'\n",
      "invalid literal for int() with base 10: '2008 May 11'\n",
      "invalid literal for int() with base 10: 'T008RE1ZR6'\n",
      "invalid literal for int() with base 10: '7FL8EU9GBF'\n",
      "invalid literal for int() with base 10: 'GD9PHJXQR4'\n",
      "invalid literal for int() with base 10: 'WCK463ZO1Z'\n",
      "invalid literal for int() with base 10: 'October 2000 04'\n",
      "invalid literal for int() with base 10: 'OE3KONN2V6'\n",
      "invalid literal for int() with base 10: 'T995FX2C7W'\n",
      "invalid literal for int() with base 10: 'EVVMMB3QYV'\n",
      "invalid literal for int() with base 10: 'September 2016 04'\n",
      "invalid literal for int() with base 10: '2017/05/15'\n",
      "invalid literal for int() with base 10: 'NULL'\n",
      "invalid literal for int() with base 10: 'NULL'\n",
      "invalid literal for int() with base 10: 'UZGSD0AEBT'\n",
      "invalid literal for int() with base 10: 'May 1998 09'\n"
     ]
    }
   ],
   "source": [
    "pdf_url = 'https://data-handling-public.s3.eu-west-1.amazonaws.com/card_details.pdf'\n",
    "\n",
    "card_data = extract_pdf(pdf_url)"
   ]
  },
  {
   "cell_type": "code",
   "execution_count": 13,
   "metadata": {},
   "outputs": [
    {
     "name": "stdout",
     "output_type": "stream",
     "text": [
      "<class 'pandas.core.frame.DataFrame'>\n",
      "Index: 15309 entries, 0 to 18\n",
      "Data columns (total 4 columns):\n",
      " #   Column                  Non-Null Count  Dtype \n",
      "---  ------                  --------------  ----- \n",
      " 0   card_number             15309 non-null  object\n",
      " 1   expiry_date             15284 non-null  object\n",
      " 2   card_provider           15309 non-null  object\n",
      " 3   date_payment_confirmed  15276 non-null  object\n",
      "dtypes: object(4)\n",
      "memory usage: 598.0+ KB\n"
     ]
    }
   ],
   "source": [
    "card_data.info()"
   ]
  },
  {
   "cell_type": "code",
   "execution_count": 14,
   "metadata": {},
   "outputs": [
    {
     "data": {
      "text/html": [
       "<div>\n",
       "<style scoped>\n",
       "    .dataframe tbody tr th:only-of-type {\n",
       "        vertical-align: middle;\n",
       "    }\n",
       "\n",
       "    .dataframe tbody tr th {\n",
       "        vertical-align: top;\n",
       "    }\n",
       "\n",
       "    .dataframe thead th {\n",
       "        text-align: right;\n",
       "    }\n",
       "</style>\n",
       "<table border=\"1\" class=\"dataframe\">\n",
       "  <thead>\n",
       "    <tr style=\"text-align: right;\">\n",
       "      <th></th>\n",
       "      <th>card_number</th>\n",
       "      <th>expiry_date</th>\n",
       "      <th>card_provider</th>\n",
       "      <th>date_payment_confirmed</th>\n",
       "    </tr>\n",
       "  </thead>\n",
       "  <tbody>\n",
       "    <tr>\n",
       "      <th>0</th>\n",
       "      <td>30060773296197</td>\n",
       "      <td>2026-09-01</td>\n",
       "      <td>Diners Club / Carte Blanche</td>\n",
       "      <td>2015-11-25</td>\n",
       "    </tr>\n",
       "    <tr>\n",
       "      <th>1</th>\n",
       "      <td>349624180933183</td>\n",
       "      <td>2023-10-01</td>\n",
       "      <td>American Express</td>\n",
       "      <td>2001-06-18</td>\n",
       "    </tr>\n",
       "    <tr>\n",
       "      <th>2</th>\n",
       "      <td>3529023891650490</td>\n",
       "      <td>2023-06-01</td>\n",
       "      <td>JCB 16 digit</td>\n",
       "      <td>2000-12-26</td>\n",
       "    </tr>\n",
       "    <tr>\n",
       "      <th>3</th>\n",
       "      <td>213142929492281</td>\n",
       "      <td>2027-09-01</td>\n",
       "      <td>JCB 15 digit</td>\n",
       "      <td>2011-02-12</td>\n",
       "    </tr>\n",
       "    <tr>\n",
       "      <th>4</th>\n",
       "      <td>502067329974</td>\n",
       "      <td>2025-10-01</td>\n",
       "      <td>Maestro</td>\n",
       "      <td>1997-03-13</td>\n",
       "    </tr>\n",
       "    <tr>\n",
       "      <th>...</th>\n",
       "      <td>...</td>\n",
       "      <td>...</td>\n",
       "      <td>...</td>\n",
       "      <td>...</td>\n",
       "    </tr>\n",
       "    <tr>\n",
       "      <th>14</th>\n",
       "      <td>180036921556789</td>\n",
       "      <td>2028-12-01</td>\n",
       "      <td>JCB 15 digit</td>\n",
       "      <td>1997-06-06</td>\n",
       "    </tr>\n",
       "    <tr>\n",
       "      <th>15</th>\n",
       "      <td>180018030448512</td>\n",
       "      <td>2024-11-01</td>\n",
       "      <td>JCB 15 digit</td>\n",
       "      <td>2004-06-16</td>\n",
       "    </tr>\n",
       "    <tr>\n",
       "      <th>16</th>\n",
       "      <td>3569953313547220</td>\n",
       "      <td>2024-04-01</td>\n",
       "      <td>JCB 16 digit</td>\n",
       "      <td>2020-02-05</td>\n",
       "    </tr>\n",
       "    <tr>\n",
       "      <th>17</th>\n",
       "      <td>4444521712606810</td>\n",
       "      <td>2027-06-01</td>\n",
       "      <td>VISA 16 digit</td>\n",
       "      <td>2008-06-16</td>\n",
       "    </tr>\n",
       "    <tr>\n",
       "      <th>18</th>\n",
       "      <td>372031786522735</td>\n",
       "      <td>2030-02-01</td>\n",
       "      <td>American Express</td>\n",
       "      <td>2009-02-04</td>\n",
       "    </tr>\n",
       "  </tbody>\n",
       "</table>\n",
       "<p>15309 rows × 4 columns</p>\n",
       "</div>"
      ],
      "text/plain": [
       "         card_number expiry_date                card_provider   \n",
       "0     30060773296197  2026-09-01  Diners Club / Carte Blanche  \\\n",
       "1    349624180933183  2023-10-01             American Express   \n",
       "2   3529023891650490  2023-06-01                 JCB 16 digit   \n",
       "3    213142929492281  2027-09-01                 JCB 15 digit   \n",
       "4       502067329974  2025-10-01                      Maestro   \n",
       "..               ...         ...                          ...   \n",
       "14   180036921556789  2028-12-01                 JCB 15 digit   \n",
       "15   180018030448512  2024-11-01                 JCB 15 digit   \n",
       "16  3569953313547220  2024-04-01                 JCB 16 digit   \n",
       "17  4444521712606810  2027-06-01                VISA 16 digit   \n",
       "18   372031786522735  2030-02-01             American Express   \n",
       "\n",
       "   date_payment_confirmed  \n",
       "0              2015-11-25  \n",
       "1              2001-06-18  \n",
       "2              2000-12-26  \n",
       "3              2011-02-12  \n",
       "4              1997-03-13  \n",
       "..                    ...  \n",
       "14             1997-06-06  \n",
       "15             2004-06-16  \n",
       "16             2020-02-05  \n",
       "17             2008-06-16  \n",
       "18             2009-02-04  \n",
       "\n",
       "[15309 rows x 4 columns]"
      ]
     },
     "execution_count": 14,
     "metadata": {},
     "output_type": "execute_result"
    }
   ],
   "source": [
    "card_data"
   ]
  },
  {
   "cell_type": "code",
   "execution_count": 15,
   "metadata": {},
   "outputs": [
    {
     "name": "stdout",
     "output_type": "stream",
     "text": [
      "<class 'pandas.core.frame.DataFrame'>\n",
      "Index: 15309 entries, 0 to 18\n",
      "Data columns (total 4 columns):\n",
      " #   Column                  Non-Null Count  Dtype \n",
      "---  ------                  --------------  ----- \n",
      " 0   card_number             15309 non-null  object\n",
      " 1   expiry_date             15284 non-null  object\n",
      " 2   card_provider           15309 non-null  object\n",
      " 3   date_payment_confirmed  15276 non-null  object\n",
      "dtypes: object(4)\n",
      "memory usage: 598.0+ KB\n"
     ]
    }
   ],
   "source": [
    "card_data.info()"
   ]
  },
  {
   "cell_type": "code",
   "execution_count": 16,
   "metadata": {},
   "outputs": [
    {
     "data": {
      "text/plain": [
       "card_number                0\n",
       "expiry_date               25\n",
       "card_provider              0\n",
       "date_payment_confirmed    33\n",
       "dtype: int64"
      ]
     },
     "execution_count": 16,
     "metadata": {},
     "output_type": "execute_result"
    }
   ],
   "source": [
    "card_data.isna().sum()"
   ]
  },
  {
   "cell_type": "code",
   "execution_count": 17,
   "metadata": {},
   "outputs": [
    {
     "ename": "ValueError",
     "evalue": "invalid literal for int() with base 10: '?4971858637664481'",
     "output_type": "error",
     "traceback": [
      "\u001b[0;31m---------------------------------------------------------------------------\u001b[0m",
      "\u001b[0;31mValueError\u001b[0m                                Traceback (most recent call last)",
      "Cell \u001b[0;32mIn[17], line 1\u001b[0m\n\u001b[0;32m----> 1\u001b[0m card_data[\u001b[39m'\u001b[39;49m\u001b[39mcard_number\u001b[39;49m\u001b[39m'\u001b[39;49m]\u001b[39m.\u001b[39;49mastype(\u001b[39mint\u001b[39;49m)\n",
      "File \u001b[0;32m~/miniconda3/lib/python3.10/site-packages/pandas/core/generic.py:6324\u001b[0m, in \u001b[0;36mNDFrame.astype\u001b[0;34m(self, dtype, copy, errors)\u001b[0m\n\u001b[1;32m   6317\u001b[0m     results \u001b[39m=\u001b[39m [\n\u001b[1;32m   6318\u001b[0m         \u001b[39mself\u001b[39m\u001b[39m.\u001b[39miloc[:, i]\u001b[39m.\u001b[39mastype(dtype, copy\u001b[39m=\u001b[39mcopy)\n\u001b[1;32m   6319\u001b[0m         \u001b[39mfor\u001b[39;00m i \u001b[39min\u001b[39;00m \u001b[39mrange\u001b[39m(\u001b[39mlen\u001b[39m(\u001b[39mself\u001b[39m\u001b[39m.\u001b[39mcolumns))\n\u001b[1;32m   6320\u001b[0m     ]\n\u001b[1;32m   6322\u001b[0m \u001b[39melse\u001b[39;00m:\n\u001b[1;32m   6323\u001b[0m     \u001b[39m# else, only a single dtype is given\u001b[39;00m\n\u001b[0;32m-> 6324\u001b[0m     new_data \u001b[39m=\u001b[39m \u001b[39mself\u001b[39;49m\u001b[39m.\u001b[39;49m_mgr\u001b[39m.\u001b[39;49mastype(dtype\u001b[39m=\u001b[39;49mdtype, copy\u001b[39m=\u001b[39;49mcopy, errors\u001b[39m=\u001b[39;49merrors)\n\u001b[1;32m   6325\u001b[0m     \u001b[39mreturn\u001b[39;00m \u001b[39mself\u001b[39m\u001b[39m.\u001b[39m_constructor(new_data)\u001b[39m.\u001b[39m__finalize__(\u001b[39mself\u001b[39m, method\u001b[39m=\u001b[39m\u001b[39m\"\u001b[39m\u001b[39mastype\u001b[39m\u001b[39m\"\u001b[39m)\n\u001b[1;32m   6327\u001b[0m \u001b[39m# GH 33113: handle empty frame or series\u001b[39;00m\n",
      "File \u001b[0;32m~/miniconda3/lib/python3.10/site-packages/pandas/core/internals/managers.py:451\u001b[0m, in \u001b[0;36mBaseBlockManager.astype\u001b[0;34m(self, dtype, copy, errors)\u001b[0m\n\u001b[1;32m    448\u001b[0m \u001b[39melif\u001b[39;00m using_copy_on_write():\n\u001b[1;32m    449\u001b[0m     copy \u001b[39m=\u001b[39m \u001b[39mFalse\u001b[39;00m\n\u001b[0;32m--> 451\u001b[0m \u001b[39mreturn\u001b[39;00m \u001b[39mself\u001b[39;49m\u001b[39m.\u001b[39;49mapply(\n\u001b[1;32m    452\u001b[0m     \u001b[39m\"\u001b[39;49m\u001b[39mastype\u001b[39;49m\u001b[39m\"\u001b[39;49m,\n\u001b[1;32m    453\u001b[0m     dtype\u001b[39m=\u001b[39;49mdtype,\n\u001b[1;32m    454\u001b[0m     copy\u001b[39m=\u001b[39;49mcopy,\n\u001b[1;32m    455\u001b[0m     errors\u001b[39m=\u001b[39;49merrors,\n\u001b[1;32m    456\u001b[0m     using_cow\u001b[39m=\u001b[39;49musing_copy_on_write(),\n\u001b[1;32m    457\u001b[0m )\n",
      "File \u001b[0;32m~/miniconda3/lib/python3.10/site-packages/pandas/core/internals/managers.py:352\u001b[0m, in \u001b[0;36mBaseBlockManager.apply\u001b[0;34m(self, f, align_keys, **kwargs)\u001b[0m\n\u001b[1;32m    350\u001b[0m         applied \u001b[39m=\u001b[39m b\u001b[39m.\u001b[39mapply(f, \u001b[39m*\u001b[39m\u001b[39m*\u001b[39mkwargs)\n\u001b[1;32m    351\u001b[0m     \u001b[39melse\u001b[39;00m:\n\u001b[0;32m--> 352\u001b[0m         applied \u001b[39m=\u001b[39m \u001b[39mgetattr\u001b[39;49m(b, f)(\u001b[39m*\u001b[39;49m\u001b[39m*\u001b[39;49mkwargs)\n\u001b[1;32m    353\u001b[0m     result_blocks \u001b[39m=\u001b[39m extend_blocks(applied, result_blocks)\n\u001b[1;32m    355\u001b[0m out \u001b[39m=\u001b[39m \u001b[39mtype\u001b[39m(\u001b[39mself\u001b[39m)\u001b[39m.\u001b[39mfrom_blocks(result_blocks, \u001b[39mself\u001b[39m\u001b[39m.\u001b[39maxes)\n",
      "File \u001b[0;32m~/miniconda3/lib/python3.10/site-packages/pandas/core/internals/blocks.py:511\u001b[0m, in \u001b[0;36mBlock.astype\u001b[0;34m(self, dtype, copy, errors, using_cow)\u001b[0m\n\u001b[1;32m    491\u001b[0m \u001b[39m\"\"\"\u001b[39;00m\n\u001b[1;32m    492\u001b[0m \u001b[39mCoerce to the new dtype.\u001b[39;00m\n\u001b[1;32m    493\u001b[0m \n\u001b[0;32m   (...)\u001b[0m\n\u001b[1;32m    507\u001b[0m \u001b[39mBlock\u001b[39;00m\n\u001b[1;32m    508\u001b[0m \u001b[39m\"\"\"\u001b[39;00m\n\u001b[1;32m    509\u001b[0m values \u001b[39m=\u001b[39m \u001b[39mself\u001b[39m\u001b[39m.\u001b[39mvalues\n\u001b[0;32m--> 511\u001b[0m new_values \u001b[39m=\u001b[39m astype_array_safe(values, dtype, copy\u001b[39m=\u001b[39;49mcopy, errors\u001b[39m=\u001b[39;49merrors)\n\u001b[1;32m    513\u001b[0m new_values \u001b[39m=\u001b[39m maybe_coerce_values(new_values)\n\u001b[1;32m    515\u001b[0m refs \u001b[39m=\u001b[39m \u001b[39mNone\u001b[39;00m\n",
      "File \u001b[0;32m~/miniconda3/lib/python3.10/site-packages/pandas/core/dtypes/astype.py:242\u001b[0m, in \u001b[0;36mastype_array_safe\u001b[0;34m(values, dtype, copy, errors)\u001b[0m\n\u001b[1;32m    239\u001b[0m     dtype \u001b[39m=\u001b[39m dtype\u001b[39m.\u001b[39mnumpy_dtype\n\u001b[1;32m    241\u001b[0m \u001b[39mtry\u001b[39;00m:\n\u001b[0;32m--> 242\u001b[0m     new_values \u001b[39m=\u001b[39m astype_array(values, dtype, copy\u001b[39m=\u001b[39;49mcopy)\n\u001b[1;32m    243\u001b[0m \u001b[39mexcept\u001b[39;00m (\u001b[39mValueError\u001b[39;00m, \u001b[39mTypeError\u001b[39;00m):\n\u001b[1;32m    244\u001b[0m     \u001b[39m# e.g. _astype_nansafe can fail on object-dtype of strings\u001b[39;00m\n\u001b[1;32m    245\u001b[0m     \u001b[39m#  trying to convert to float\u001b[39;00m\n\u001b[1;32m    246\u001b[0m     \u001b[39mif\u001b[39;00m errors \u001b[39m==\u001b[39m \u001b[39m\"\u001b[39m\u001b[39mignore\u001b[39m\u001b[39m\"\u001b[39m:\n",
      "File \u001b[0;32m~/miniconda3/lib/python3.10/site-packages/pandas/core/dtypes/astype.py:187\u001b[0m, in \u001b[0;36mastype_array\u001b[0;34m(values, dtype, copy)\u001b[0m\n\u001b[1;32m    184\u001b[0m     values \u001b[39m=\u001b[39m values\u001b[39m.\u001b[39mastype(dtype, copy\u001b[39m=\u001b[39mcopy)\n\u001b[1;32m    186\u001b[0m \u001b[39melse\u001b[39;00m:\n\u001b[0;32m--> 187\u001b[0m     values \u001b[39m=\u001b[39m _astype_nansafe(values, dtype, copy\u001b[39m=\u001b[39;49mcopy)\n\u001b[1;32m    189\u001b[0m \u001b[39m# in pandas we don't store numpy str dtypes, so convert to object\u001b[39;00m\n\u001b[1;32m    190\u001b[0m \u001b[39mif\u001b[39;00m \u001b[39misinstance\u001b[39m(dtype, np\u001b[39m.\u001b[39mdtype) \u001b[39mand\u001b[39;00m \u001b[39missubclass\u001b[39m(values\u001b[39m.\u001b[39mdtype\u001b[39m.\u001b[39mtype, \u001b[39mstr\u001b[39m):\n",
      "File \u001b[0;32m~/miniconda3/lib/python3.10/site-packages/pandas/core/dtypes/astype.py:138\u001b[0m, in \u001b[0;36m_astype_nansafe\u001b[0;34m(arr, dtype, copy, skipna)\u001b[0m\n\u001b[1;32m    134\u001b[0m     \u001b[39mraise\u001b[39;00m \u001b[39mValueError\u001b[39;00m(msg)\n\u001b[1;32m    136\u001b[0m \u001b[39mif\u001b[39;00m copy \u001b[39mor\u001b[39;00m is_object_dtype(arr\u001b[39m.\u001b[39mdtype) \u001b[39mor\u001b[39;00m is_object_dtype(dtype):\n\u001b[1;32m    137\u001b[0m     \u001b[39m# Explicit copy, or required since NumPy can't view from / to object.\u001b[39;00m\n\u001b[0;32m--> 138\u001b[0m     \u001b[39mreturn\u001b[39;00m arr\u001b[39m.\u001b[39;49mastype(dtype, copy\u001b[39m=\u001b[39;49m\u001b[39mTrue\u001b[39;49;00m)\n\u001b[1;32m    140\u001b[0m \u001b[39mreturn\u001b[39;00m arr\u001b[39m.\u001b[39mastype(dtype, copy\u001b[39m=\u001b[39mcopy)\n",
      "\u001b[0;31mValueError\u001b[0m: invalid literal for int() with base 10: '?4971858637664481'"
     ]
    }
   ],
   "source": [
    "card_data['card_number'].astype(int)"
   ]
  },
  {
   "cell_type": "code",
   "execution_count": 25,
   "metadata": {},
   "outputs": [],
   "source": [
    "def clean_questionmark(x):\n",
    "    try:\n",
    "        if x == \"NULL\":\n",
    "            return None\n",
    "        x = str(x).replace('?',\"\")\n",
    "        return x \n",
    "    except Exception as e:\n",
    "        print(e) \n",
    "\n"
   ]
  },
  {
   "cell_type": "code",
   "execution_count": 28,
   "metadata": {},
   "outputs": [],
   "source": [
    "card_data['card_number'] = card_data['card_number'].apply(clean_questionmark)"
   ]
  },
  {
   "cell_type": "code",
   "execution_count": 29,
   "metadata": {},
   "outputs": [
    {
     "data": {
      "text/plain": [
       "card_number               11\n",
       "expiry_date               25\n",
       "card_provider              0\n",
       "date_payment_confirmed    33\n",
       "dtype: int64"
      ]
     },
     "execution_count": 29,
     "metadata": {},
     "output_type": "execute_result"
    }
   ],
   "source": [
    "card_data.isna().sum()"
   ]
  },
  {
   "cell_type": "code",
   "execution_count": 35,
   "metadata": {},
   "outputs": [
    {
     "data": {
      "text/plain": [
       "11"
      ]
     },
     "execution_count": 35,
     "metadata": {},
     "output_type": "execute_result"
    }
   ],
   "source": [
    "(card_data['card_provider'] == 'NULL').sum()"
   ]
  },
  {
   "cell_type": "code",
   "execution_count": 34,
   "metadata": {},
   "outputs": [
    {
     "data": {
      "text/plain": [
       "card_number               11\n",
       "expiry_date               25\n",
       "card_provider              0\n",
       "date_payment_confirmed    33\n",
       "dtype: int64"
      ]
     },
     "execution_count": 34,
     "metadata": {},
     "output_type": "execute_result"
    }
   ],
   "source": [
    "card_data.isna().sum()"
   ]
  },
  {
   "cell_type": "code",
   "execution_count": 36,
   "metadata": {},
   "outputs": [],
   "source": [
    "card_data.loc[card_data['card_provider'] == 'NULL', 'card_provider'] = None"
   ]
  },
  {
   "cell_type": "code",
   "execution_count": 37,
   "metadata": {},
   "outputs": [
    {
     "data": {
      "text/plain": [
       "card_number               11\n",
       "expiry_date               25\n",
       "card_provider             11\n",
       "date_payment_confirmed    33\n",
       "dtype: int64"
      ]
     },
     "execution_count": 37,
     "metadata": {},
     "output_type": "execute_result"
    }
   ],
   "source": [
    "card_data.isna().sum()"
   ]
  },
  {
   "cell_type": "code",
   "execution_count": 38,
   "metadata": {},
   "outputs": [],
   "source": [
    "def clean_card_data(card_data):\n",
    "    card_data['card_number'] = card_data['card_number'].apply(clean_questionmark)\n",
    "    card_data.loc[card_data['card_provider'] == 'NULL', 'card_provider'] = None\n",
    "    return card_data.dropna()\n",
    "\n",
    "    \n",
    "    \n"
   ]
  },
  {
   "cell_type": "code",
   "execution_count": 41,
   "metadata": {},
   "outputs": [],
   "source": [
    "new_data = clean_card_data(card_data)"
   ]
  },
  {
   "cell_type": "code",
   "execution_count": 42,
   "metadata": {},
   "outputs": [
    {
     "name": "stdout",
     "output_type": "stream",
     "text": [
      "<class 'pandas.core.frame.DataFrame'>\n",
      "Index: 15276 entries, 0 to 18\n",
      "Data columns (total 4 columns):\n",
      " #   Column                  Non-Null Count  Dtype \n",
      "---  ------                  --------------  ----- \n",
      " 0   card_number             15276 non-null  object\n",
      " 1   expiry_date             15276 non-null  object\n",
      " 2   card_provider           15276 non-null  object\n",
      " 3   date_payment_confirmed  15276 non-null  object\n",
      "dtypes: object(4)\n",
      "memory usage: 596.7+ KB\n"
     ]
    }
   ],
   "source": [
    "new_data.info()"
   ]
  },
  {
   "cell_type": "code",
   "execution_count": 43,
   "metadata": {},
   "outputs": [
    {
     "data": {
      "text/plain": [
       "card_number               0\n",
       "expiry_date               0\n",
       "card_provider             0\n",
       "date_payment_confirmed    0\n",
       "dtype: int64"
      ]
     },
     "execution_count": 43,
     "metadata": {},
     "output_type": "execute_result"
    }
   ],
   "source": [
    "new_data.isna().sum()"
   ]
  },
  {
   "cell_type": "code",
   "execution_count": 45,
   "metadata": {},
   "outputs": [
    {
     "data": {
      "text/plain": [
       "0"
      ]
     },
     "execution_count": 45,
     "metadata": {},
     "output_type": "execute_result"
    }
   ],
   "source": [
    "(new_data['card_number']== 'NULL').sum()"
   ]
  },
  {
   "cell_type": "code",
   "execution_count": 1,
   "metadata": {},
   "outputs": [],
   "source": [
    "from data_extraction import DataExtractor\n",
    "\n",
    "\n",
    "    "
   ]
  },
  {
   "cell_type": "code",
   "execution_count": 2,
   "metadata": {},
   "outputs": [],
   "source": [
    "extractor = DataExtractor(\"www.test.com\")"
   ]
  },
  {
   "cell_type": "code",
   "execution_count": 4,
   "metadata": {},
   "outputs": [],
   "source": [
    "df_stores = extractor.retrieve_stores_data('https://aqj7u5id95.execute-api.eu-west-1.amazonaws.com/prod/store_details/{store_number}')"
   ]
  },
  {
   "cell_type": "code",
   "execution_count": 5,
   "metadata": {},
   "outputs": [
    {
     "name": "stdout",
     "output_type": "stream",
     "text": [
      "<class 'pandas.core.frame.DataFrame'>\n",
      "Index: 451 entries, 0 to 450\n",
      "Data columns (total 11 columns):\n",
      " #   Column         Non-Null Count  Dtype \n",
      "---  ------         --------------  ----- \n",
      " 0   address        451 non-null    object\n",
      " 1   longitude      451 non-null    object\n",
      " 2   lat            11 non-null     object\n",
      " 3   locality       451 non-null    object\n",
      " 4   store_code     451 non-null    object\n",
      " 5   staff_numbers  451 non-null    object\n",
      " 6   opening_date   451 non-null    object\n",
      " 7   store_type     451 non-null    object\n",
      " 8   latitude       450 non-null    object\n",
      " 9   country_code   451 non-null    object\n",
      " 10  continent      451 non-null    object\n",
      "dtypes: object(11)\n",
      "memory usage: 42.3+ KB\n"
     ]
    }
   ],
   "source": [
    "df_stores.info()\n"
   ]
  },
  {
   "cell_type": "code",
   "execution_count": 12,
   "metadata": {},
   "outputs": [
    {
     "data": {
      "text/html": [
       "<div>\n",
       "<style scoped>\n",
       "    .dataframe tbody tr th:only-of-type {\n",
       "        vertical-align: middle;\n",
       "    }\n",
       "\n",
       "    .dataframe tbody tr th {\n",
       "        vertical-align: top;\n",
       "    }\n",
       "\n",
       "    .dataframe thead th {\n",
       "        text-align: right;\n",
       "    }\n",
       "</style>\n",
       "<table border=\"1\" class=\"dataframe\">\n",
       "  <thead>\n",
       "    <tr style=\"text-align: right;\">\n",
       "      <th></th>\n",
       "      <th>address</th>\n",
       "      <th>longitude</th>\n",
       "      <th>locality</th>\n",
       "      <th>store_code</th>\n",
       "      <th>staff_numbers</th>\n",
       "      <th>opening_date</th>\n",
       "      <th>store_type</th>\n",
       "      <th>latitude</th>\n",
       "      <th>country_code</th>\n",
       "      <th>continent</th>\n",
       "    </tr>\n",
       "    <tr>\n",
       "      <th>index</th>\n",
       "      <th></th>\n",
       "      <th></th>\n",
       "      <th></th>\n",
       "      <th></th>\n",
       "      <th></th>\n",
       "      <th></th>\n",
       "      <th></th>\n",
       "      <th></th>\n",
       "      <th></th>\n",
       "      <th></th>\n",
       "    </tr>\n",
       "  </thead>\n",
       "  <tbody>\n",
       "    <tr>\n",
       "      <th>0</th>\n",
       "      <td>N/A</td>\n",
       "      <td>N/A</td>\n",
       "      <td>N/A</td>\n",
       "      <td>WEB-1388012W</td>\n",
       "      <td>325</td>\n",
       "      <td>2010-06-12</td>\n",
       "      <td>Web Portal</td>\n",
       "      <td>None</td>\n",
       "      <td>GB</td>\n",
       "      <td>Europe</td>\n",
       "    </tr>\n",
       "    <tr>\n",
       "      <th>1</th>\n",
       "      <td>Flat 72W Sally isle East Deantown E7B 8EB, Hig...</td>\n",
       "      <td>51.62907</td>\n",
       "      <td>High Wycombe</td>\n",
       "      <td>HI-9B97EE4E</td>\n",
       "      <td>34</td>\n",
       "      <td>1996-10-25</td>\n",
       "      <td>Local</td>\n",
       "      <td>-0.74934</td>\n",
       "      <td>GB</td>\n",
       "      <td>Europe</td>\n",
       "    </tr>\n",
       "    <tr>\n",
       "      <th>2</th>\n",
       "      <td>Heckerstraße 4/5 50491 Säckingen, Landshut</td>\n",
       "      <td>48.52961</td>\n",
       "      <td>Landshut</td>\n",
       "      <td>LA-0772C7B9</td>\n",
       "      <td>92</td>\n",
       "      <td>2013-04-12</td>\n",
       "      <td>Super Store</td>\n",
       "      <td>12.16179</td>\n",
       "      <td>DE</td>\n",
       "      <td>Europe</td>\n",
       "    </tr>\n",
       "    <tr>\n",
       "      <th>3</th>\n",
       "      <td>5 Harrison tunnel South Lydia WC9 2BE, Westbury</td>\n",
       "      <td>51.26</td>\n",
       "      <td>Westbury</td>\n",
       "      <td>WE-1DE82CEE</td>\n",
       "      <td>69</td>\n",
       "      <td>2014-01-02</td>\n",
       "      <td>Super Store</td>\n",
       "      <td>-2.1875</td>\n",
       "      <td>GB</td>\n",
       "      <td>Europe</td>\n",
       "    </tr>\n",
       "    <tr>\n",
       "      <th>4</th>\n",
       "      <td>Studio 6 Stephen landing South Simon B77 2WA, ...</td>\n",
       "      <td>53.0233</td>\n",
       "      <td>Belper</td>\n",
       "      <td>BE-18074576</td>\n",
       "      <td>35</td>\n",
       "      <td>2019-09-09</td>\n",
       "      <td>Local</td>\n",
       "      <td>-1.48119</td>\n",
       "      <td>GB</td>\n",
       "      <td>Europe</td>\n",
       "    </tr>\n",
       "  </tbody>\n",
       "</table>\n",
       "</div>"
      ],
      "text/plain": [
       "                                                 address longitude   \n",
       "index                                                                \n",
       "0                                                    N/A       N/A  \\\n",
       "1      Flat 72W Sally isle East Deantown E7B 8EB, Hig...  51.62907   \n",
       "2             Heckerstraße 4/5 50491 Säckingen, Landshut  48.52961   \n",
       "3        5 Harrison tunnel South Lydia WC9 2BE, Westbury     51.26   \n",
       "4      Studio 6 Stephen landing South Simon B77 2WA, ...   53.0233   \n",
       "\n",
       "           locality    store_code staff_numbers opening_date   store_type   \n",
       "index                                                                       \n",
       "0               N/A  WEB-1388012W           325   2010-06-12   Web Portal  \\\n",
       "1      High Wycombe   HI-9B97EE4E            34   1996-10-25        Local   \n",
       "2          Landshut   LA-0772C7B9            92   2013-04-12  Super Store   \n",
       "3          Westbury   WE-1DE82CEE            69   2014-01-02  Super Store   \n",
       "4            Belper   BE-18074576            35   2019-09-09        Local   \n",
       "\n",
       "       latitude country_code continent  \n",
       "index                                   \n",
       "0          None           GB    Europe  \n",
       "1      -0.74934           GB    Europe  \n",
       "2      12.16179           DE    Europe  \n",
       "3       -2.1875           GB    Europe  \n",
       "4      -1.48119           GB    Europe  "
      ]
     },
     "execution_count": 12,
     "metadata": {},
     "output_type": "execute_result"
    }
   ],
   "source": [
    "df_stores.head()"
   ]
  },
  {
   "cell_type": "code",
   "execution_count": 21,
   "metadata": {},
   "outputs": [],
   "source": [
    "df_stores.drop('lat', inplace = True, axis = 1)\n",
    "df_stores.drop(447, inplace= True)"
   ]
  },
  {
   "cell_type": "code",
   "execution_count": 10,
   "metadata": {},
   "outputs": [
    {
     "data": {
      "text/plain": [
       "index\n",
       "0                                                    N/A\n",
       "1      Flat 72W Sally isle East Deantown E7B 8EB, Hig...\n",
       "2             Heckerstraße 4/5 50491 Säckingen, Landshut\n",
       "3        5 Harrison tunnel South Lydia WC9 2BE, Westbury\n",
       "4      Studio 6 Stephen landing South Simon B77 2WA, ...\n",
       "                             ...                        \n",
       "446       Täschestraße 25 39039 Nördlingen, Kirchlengern\n",
       "447                                           K0ODETRLS3\n",
       "448    Studio 8 Moss mall West Linda M0E 6XR, High Wy...\n",
       "449                  Baumplatz 6 80114 Kötzting, Bretten\n",
       "450    Gotthilf-Rose-Straße 7/3 45457 Feuchtwangen, B...\n",
       "Name: address, Length: 451, dtype: object"
      ]
     },
     "execution_count": 10,
     "metadata": {},
     "output_type": "execute_result"
    }
   ],
   "source": [
    "df_stores['address'].apply(lambda x: x.replace('\\n', ' '))"
   ]
  },
  {
   "cell_type": "code",
   "execution_count": 11,
   "metadata": {},
   "outputs": [],
   "source": [
    "df_stores['address'] = df_stores['address'].apply(lambda x: x.replace('\\n', ' '))"
   ]
  },
  {
   "cell_type": "code",
   "execution_count": 17,
   "metadata": {},
   "outputs": [],
   "source": [
    "df_stores.loc[(df_stores['longitude'] == 'N/A'),'longitude'] = None"
   ]
  },
  {
   "cell_type": "code",
   "execution_count": 27,
   "metadata": {},
   "outputs": [],
   "source": [
    "def convert_to_num(x, type_1):\n",
    "    try:\n",
    "        return type_1(x) \n",
    "    except: \n",
    "        return None \n",
    "    \n"
   ]
  },
  {
   "cell_type": "code",
   "execution_count": 30,
   "metadata": {},
   "outputs": [],
   "source": [
    "df_stores['longitude'] = df_stores['longitude'].apply(convert_to_num, type_1 = float)\n",
    "df_stores['latitude'] = df_stores['latitude'].apply(convert_to_num, type_1 = float)\n",
    "df_stores['staff_numbers'] = df_stores['staff_numbers'].apply(convert_to_num, type_1 = int)\n"
   ]
  },
  {
   "cell_type": "code",
   "execution_count": 33,
   "metadata": {},
   "outputs": [
    {
     "data": {
      "text/plain": [
       "index\n",
       "0      None\n",
       "1      None\n",
       "2      None\n",
       "3      None\n",
       "4      None\n",
       "       ... \n",
       "445    None\n",
       "446    None\n",
       "448    None\n",
       "449    None\n",
       "450    None\n",
       "Name: opening_date, Length: 450, dtype: object"
      ]
     },
     "execution_count": 33,
     "metadata": {},
     "output_type": "execute_result"
    }
   ],
   "source": [
    "df_stores['opening_date'].apply(convert_to_num, type_1 = datetime.date)"
   ]
  },
  {
   "cell_type": "code",
   "execution_count": 35,
   "metadata": {},
   "outputs": [],
   "source": [
    "def date_format(x):\n",
    "    try: \n",
    "        if '-' in x:\n",
    "            x = list(map(int, x.split('-')))\n",
    "            return datetime.date(x[0],x[1],x[2])\n",
    "        else:\n",
    "            return datetime.datetime.strptime(x, '%B %Y %d').date()\n",
    "    except: \n",
    "        return None\n",
    "        \n",
    "\n",
    "        "
   ]
  },
  {
   "cell_type": "code",
   "execution_count": 36,
   "metadata": {},
   "outputs": [
    {
     "data": {
      "text/plain": [
       "index\n",
       "0      2010-06-12\n",
       "1      1996-10-25\n",
       "2      2013-04-12\n",
       "3      2014-01-02\n",
       "4      2019-09-09\n",
       "          ...    \n",
       "445    2008-06-08\n",
       "446    2005-05-12\n",
       "448    1998-05-14\n",
       "449    2020-10-17\n",
       "450    2001-05-12\n",
       "Name: opening_date, Length: 450, dtype: object"
      ]
     },
     "execution_count": 36,
     "metadata": {},
     "output_type": "execute_result"
    }
   ],
   "source": [
    "df_stores['opening_date'].apply(date_format)"
   ]
  },
  {
   "cell_type": "code",
   "execution_count": 37,
   "metadata": {},
   "outputs": [],
   "source": [
    "df_stores['opening_date']= df_stores['opening_date'].apply(date_format)"
   ]
  },
  {
   "cell_type": "code",
   "execution_count": 38,
   "metadata": {},
   "outputs": [
    {
     "data": {
      "text/html": [
       "<div>\n",
       "<style scoped>\n",
       "    .dataframe tbody tr th:only-of-type {\n",
       "        vertical-align: middle;\n",
       "    }\n",
       "\n",
       "    .dataframe tbody tr th {\n",
       "        vertical-align: top;\n",
       "    }\n",
       "\n",
       "    .dataframe thead th {\n",
       "        text-align: right;\n",
       "    }\n",
       "</style>\n",
       "<table border=\"1\" class=\"dataframe\">\n",
       "  <thead>\n",
       "    <tr style=\"text-align: right;\">\n",
       "      <th></th>\n",
       "      <th>address</th>\n",
       "      <th>longitude</th>\n",
       "      <th>locality</th>\n",
       "      <th>store_code</th>\n",
       "      <th>staff_numbers</th>\n",
       "      <th>opening_date</th>\n",
       "      <th>store_type</th>\n",
       "      <th>latitude</th>\n",
       "      <th>country_code</th>\n",
       "      <th>continent</th>\n",
       "    </tr>\n",
       "    <tr>\n",
       "      <th>index</th>\n",
       "      <th></th>\n",
       "      <th></th>\n",
       "      <th></th>\n",
       "      <th></th>\n",
       "      <th></th>\n",
       "      <th></th>\n",
       "      <th></th>\n",
       "      <th></th>\n",
       "      <th></th>\n",
       "      <th></th>\n",
       "    </tr>\n",
       "  </thead>\n",
       "  <tbody>\n",
       "    <tr>\n",
       "      <th>0</th>\n",
       "      <td>N/A</td>\n",
       "      <td>NaN</td>\n",
       "      <td>N/A</td>\n",
       "      <td>WEB-1388012W</td>\n",
       "      <td>325.0</td>\n",
       "      <td>2010-06-12</td>\n",
       "      <td>Web Portal</td>\n",
       "      <td>NaN</td>\n",
       "      <td>GB</td>\n",
       "      <td>Europe</td>\n",
       "    </tr>\n",
       "    <tr>\n",
       "      <th>1</th>\n",
       "      <td>Flat 72W Sally isle East Deantown E7B 8EB, Hig...</td>\n",
       "      <td>51.62907</td>\n",
       "      <td>High Wycombe</td>\n",
       "      <td>HI-9B97EE4E</td>\n",
       "      <td>34.0</td>\n",
       "      <td>1996-10-25</td>\n",
       "      <td>Local</td>\n",
       "      <td>-0.74934</td>\n",
       "      <td>GB</td>\n",
       "      <td>Europe</td>\n",
       "    </tr>\n",
       "    <tr>\n",
       "      <th>2</th>\n",
       "      <td>Heckerstraße 4/5 50491 Säckingen, Landshut</td>\n",
       "      <td>48.52961</td>\n",
       "      <td>Landshut</td>\n",
       "      <td>LA-0772C7B9</td>\n",
       "      <td>92.0</td>\n",
       "      <td>2013-04-12</td>\n",
       "      <td>Super Store</td>\n",
       "      <td>12.16179</td>\n",
       "      <td>DE</td>\n",
       "      <td>Europe</td>\n",
       "    </tr>\n",
       "    <tr>\n",
       "      <th>3</th>\n",
       "      <td>5 Harrison tunnel South Lydia WC9 2BE, Westbury</td>\n",
       "      <td>51.26000</td>\n",
       "      <td>Westbury</td>\n",
       "      <td>WE-1DE82CEE</td>\n",
       "      <td>69.0</td>\n",
       "      <td>2014-01-02</td>\n",
       "      <td>Super Store</td>\n",
       "      <td>-2.18750</td>\n",
       "      <td>GB</td>\n",
       "      <td>Europe</td>\n",
       "    </tr>\n",
       "    <tr>\n",
       "      <th>4</th>\n",
       "      <td>Studio 6 Stephen landing South Simon B77 2WA, ...</td>\n",
       "      <td>53.02330</td>\n",
       "      <td>Belper</td>\n",
       "      <td>BE-18074576</td>\n",
       "      <td>35.0</td>\n",
       "      <td>2019-09-09</td>\n",
       "      <td>Local</td>\n",
       "      <td>-1.48119</td>\n",
       "      <td>GB</td>\n",
       "      <td>Europe</td>\n",
       "    </tr>\n",
       "  </tbody>\n",
       "</table>\n",
       "</div>"
      ],
      "text/plain": [
       "                                                 address  longitude   \n",
       "index                                                                 \n",
       "0                                                    N/A        NaN  \\\n",
       "1      Flat 72W Sally isle East Deantown E7B 8EB, Hig...   51.62907   \n",
       "2             Heckerstraße 4/5 50491 Säckingen, Landshut   48.52961   \n",
       "3        5 Harrison tunnel South Lydia WC9 2BE, Westbury   51.26000   \n",
       "4      Studio 6 Stephen landing South Simon B77 2WA, ...   53.02330   \n",
       "\n",
       "           locality    store_code  staff_numbers opening_date   store_type   \n",
       "index                                                                        \n",
       "0               N/A  WEB-1388012W          325.0   2010-06-12   Web Portal  \\\n",
       "1      High Wycombe   HI-9B97EE4E           34.0   1996-10-25        Local   \n",
       "2          Landshut   LA-0772C7B9           92.0   2013-04-12  Super Store   \n",
       "3          Westbury   WE-1DE82CEE           69.0   2014-01-02  Super Store   \n",
       "4            Belper   BE-18074576           35.0   2019-09-09        Local   \n",
       "\n",
       "       latitude country_code continent  \n",
       "index                                   \n",
       "0           NaN           GB    Europe  \n",
       "1      -0.74934           GB    Europe  \n",
       "2      12.16179           DE    Europe  \n",
       "3      -2.18750           GB    Europe  \n",
       "4      -1.48119           GB    Europe  "
      ]
     },
     "execution_count": 38,
     "metadata": {},
     "output_type": "execute_result"
    }
   ],
   "source": [
    "df_stores.head()"
   ]
  },
  {
   "cell_type": "code",
   "execution_count": 39,
   "metadata": {},
   "outputs": [
    {
     "name": "stdout",
     "output_type": "stream",
     "text": [
      "<class 'pandas.core.frame.DataFrame'>\n",
      "Index: 450 entries, 0 to 450\n",
      "Data columns (total 10 columns):\n",
      " #   Column         Non-Null Count  Dtype  \n",
      "---  ------         --------------  -----  \n",
      " 0   address        450 non-null    object \n",
      " 1   longitude      440 non-null    float64\n",
      " 2   locality       450 non-null    object \n",
      " 3   store_code     450 non-null    object \n",
      " 4   staff_numbers  436 non-null    float64\n",
      " 5   opening_date   435 non-null    object \n",
      " 6   store_type     450 non-null    object \n",
      " 7   latitude       440 non-null    float64\n",
      " 8   country_code   450 non-null    object \n",
      " 9   continent      450 non-null    object \n",
      "dtypes: float64(3), object(7)\n",
      "memory usage: 38.7+ KB\n"
     ]
    }
   ],
   "source": [
    "df_stores.info()"
   ]
  },
  {
   "cell_type": "code",
   "execution_count": 42,
   "metadata": {},
   "outputs": [],
   "source": [
    "for col in df_stores.columns: \n",
    "    df_stores[col] = df_stores[col].replace({'N/A': None})\n"
   ]
  },
  {
   "cell_type": "code",
   "execution_count": 44,
   "metadata": {},
   "outputs": [
    {
     "data": {
      "text/plain": [
       "address           1\n",
       "longitude        10\n",
       "locality          1\n",
       "store_code        0\n",
       "staff_numbers    14\n",
       "opening_date     15\n",
       "store_type        0\n",
       "latitude         10\n",
       "country_code      0\n",
       "continent         0\n",
       "dtype: int64"
      ]
     },
     "execution_count": 44,
     "metadata": {},
     "output_type": "execute_result"
    }
   ],
   "source": [
    "df_stores.isna().sum()"
   ]
  },
  {
   "cell_type": "code",
   "execution_count": 46,
   "metadata": {},
   "outputs": [],
   "source": [
    "df_stores.dropna(inplace = True)"
   ]
  },
  {
   "cell_type": "code",
   "execution_count": 47,
   "metadata": {},
   "outputs": [
    {
     "data": {
      "text/plain": [
       "address          0\n",
       "longitude        0\n",
       "locality         0\n",
       "store_code       0\n",
       "staff_numbers    0\n",
       "opening_date     0\n",
       "store_type       0\n",
       "latitude         0\n",
       "country_code     0\n",
       "continent        0\n",
       "dtype: int64"
      ]
     },
     "execution_count": 47,
     "metadata": {},
     "output_type": "execute_result"
    }
   ],
   "source": [
    "df_stores.isna().sum()"
   ]
  },
  {
   "cell_type": "code",
   "execution_count": 48,
   "metadata": {},
   "outputs": [
    {
     "data": {
      "text/html": [
       "<div>\n",
       "<style scoped>\n",
       "    .dataframe tbody tr th:only-of-type {\n",
       "        vertical-align: middle;\n",
       "    }\n",
       "\n",
       "    .dataframe tbody tr th {\n",
       "        vertical-align: top;\n",
       "    }\n",
       "\n",
       "    .dataframe thead th {\n",
       "        text-align: right;\n",
       "    }\n",
       "</style>\n",
       "<table border=\"1\" class=\"dataframe\">\n",
       "  <thead>\n",
       "    <tr style=\"text-align: right;\">\n",
       "      <th></th>\n",
       "      <th>address</th>\n",
       "      <th>longitude</th>\n",
       "      <th>locality</th>\n",
       "      <th>store_code</th>\n",
       "      <th>staff_numbers</th>\n",
       "      <th>opening_date</th>\n",
       "      <th>store_type</th>\n",
       "      <th>latitude</th>\n",
       "      <th>country_code</th>\n",
       "      <th>continent</th>\n",
       "    </tr>\n",
       "    <tr>\n",
       "      <th>index</th>\n",
       "      <th></th>\n",
       "      <th></th>\n",
       "      <th></th>\n",
       "      <th></th>\n",
       "      <th></th>\n",
       "      <th></th>\n",
       "      <th></th>\n",
       "      <th></th>\n",
       "      <th></th>\n",
       "      <th></th>\n",
       "    </tr>\n",
       "  </thead>\n",
       "  <tbody>\n",
       "    <tr>\n",
       "      <th>1</th>\n",
       "      <td>Flat 72W Sally isle East Deantown E7B 8EB, Hig...</td>\n",
       "      <td>51.62907</td>\n",
       "      <td>High Wycombe</td>\n",
       "      <td>HI-9B97EE4E</td>\n",
       "      <td>34.0</td>\n",
       "      <td>1996-10-25</td>\n",
       "      <td>Local</td>\n",
       "      <td>-0.74934</td>\n",
       "      <td>GB</td>\n",
       "      <td>Europe</td>\n",
       "    </tr>\n",
       "    <tr>\n",
       "      <th>2</th>\n",
       "      <td>Heckerstraße 4/5 50491 Säckingen, Landshut</td>\n",
       "      <td>48.52961</td>\n",
       "      <td>Landshut</td>\n",
       "      <td>LA-0772C7B9</td>\n",
       "      <td>92.0</td>\n",
       "      <td>2013-04-12</td>\n",
       "      <td>Super Store</td>\n",
       "      <td>12.16179</td>\n",
       "      <td>DE</td>\n",
       "      <td>Europe</td>\n",
       "    </tr>\n",
       "    <tr>\n",
       "      <th>3</th>\n",
       "      <td>5 Harrison tunnel South Lydia WC9 2BE, Westbury</td>\n",
       "      <td>51.26000</td>\n",
       "      <td>Westbury</td>\n",
       "      <td>WE-1DE82CEE</td>\n",
       "      <td>69.0</td>\n",
       "      <td>2014-01-02</td>\n",
       "      <td>Super Store</td>\n",
       "      <td>-2.18750</td>\n",
       "      <td>GB</td>\n",
       "      <td>Europe</td>\n",
       "    </tr>\n",
       "    <tr>\n",
       "      <th>4</th>\n",
       "      <td>Studio 6 Stephen landing South Simon B77 2WA, ...</td>\n",
       "      <td>53.02330</td>\n",
       "      <td>Belper</td>\n",
       "      <td>BE-18074576</td>\n",
       "      <td>35.0</td>\n",
       "      <td>2019-09-09</td>\n",
       "      <td>Local</td>\n",
       "      <td>-1.48119</td>\n",
       "      <td>GB</td>\n",
       "      <td>Europe</td>\n",
       "    </tr>\n",
       "    <tr>\n",
       "      <th>5</th>\n",
       "      <td>Flat 92u Christian harbors Port Charlotte N57 ...</td>\n",
       "      <td>53.38333</td>\n",
       "      <td>Gainsborough</td>\n",
       "      <td>GA-CAD01AC2</td>\n",
       "      <td>36.0</td>\n",
       "      <td>1995-05-15</td>\n",
       "      <td>Local</td>\n",
       "      <td>-0.76667</td>\n",
       "      <td>GB</td>\n",
       "      <td>Europe</td>\n",
       "    </tr>\n",
       "  </tbody>\n",
       "</table>\n",
       "</div>"
      ],
      "text/plain": [
       "                                                 address  longitude   \n",
       "index                                                                 \n",
       "1      Flat 72W Sally isle East Deantown E7B 8EB, Hig...   51.62907  \\\n",
       "2             Heckerstraße 4/5 50491 Säckingen, Landshut   48.52961   \n",
       "3        5 Harrison tunnel South Lydia WC9 2BE, Westbury   51.26000   \n",
       "4      Studio 6 Stephen landing South Simon B77 2WA, ...   53.02330   \n",
       "5      Flat 92u Christian harbors Port Charlotte N57 ...   53.38333   \n",
       "\n",
       "           locality   store_code  staff_numbers opening_date   store_type   \n",
       "index                                                                       \n",
       "1      High Wycombe  HI-9B97EE4E           34.0   1996-10-25        Local  \\\n",
       "2          Landshut  LA-0772C7B9           92.0   2013-04-12  Super Store   \n",
       "3          Westbury  WE-1DE82CEE           69.0   2014-01-02  Super Store   \n",
       "4            Belper  BE-18074576           35.0   2019-09-09        Local   \n",
       "5      Gainsborough  GA-CAD01AC2           36.0   1995-05-15        Local   \n",
       "\n",
       "       latitude country_code continent  \n",
       "index                                   \n",
       "1      -0.74934           GB    Europe  \n",
       "2      12.16179           DE    Europe  \n",
       "3      -2.18750           GB    Europe  \n",
       "4      -1.48119           GB    Europe  \n",
       "5      -0.76667           GB    Europe  "
      ]
     },
     "execution_count": 48,
     "metadata": {},
     "output_type": "execute_result"
    }
   ],
   "source": [
    "df_stores.head()"
   ]
  },
  {
   "cell_type": "code",
   "execution_count": 53,
   "metadata": {},
   "outputs": [
    {
     "name": "stdout",
     "output_type": "stream",
     "text": [
      "<class 'str'>\n",
      "<class 'numpy.float64'>\n",
      "<class 'str'>\n",
      "<class 'str'>\n",
      "<class 'numpy.float64'>\n",
      "<class 'datetime.date'>\n",
      "<class 'str'>\n",
      "<class 'numpy.float64'>\n",
      "<class 'str'>\n",
      "<class 'str'>\n"
     ]
    }
   ],
   "source": [
    "for col in df_stores.columns: \n",
    "    print(type(df_stores[col].iloc[0]))"
   ]
  },
  {
   "cell_type": "code",
   "execution_count": 55,
   "metadata": {},
   "outputs": [],
   "source": [
    "def get_type(col_type):\n",
    "    if 'str' in str(col_type):\n",
    "        return 'VARCHAR(225)'\n",
    "    elif 'float' in str(col_type):\n",
    "        return 'FLOAT'\n",
    "    elif 'int' in str(col_type): \n",
    "        return 'INT'\n",
    "    elif 'date' in str(col_type):\n",
    "        return 'DATE'\n",
    "    else: \n",
    "        return 'VARCHAR(225)'\n",
    "    \n",
    "    "
   ]
  },
  {
   "cell_type": "code",
   "execution_count": 56,
   "metadata": {},
   "outputs": [
    {
     "name": "stdout",
     "output_type": "stream",
     "text": [
      "VARCHAR(225)\n",
      "FLOAT\n",
      "VARCHAR(225)\n",
      "VARCHAR(225)\n",
      "FLOAT\n",
      "DATE\n",
      "VARCHAR(225)\n",
      "FLOAT\n",
      "VARCHAR(225)\n",
      "VARCHAR(225)\n"
     ]
    }
   ],
   "source": [
    "for col in df_stores.columns: \n",
    "    print(get_type(type(df_stores[col].iloc[0])))"
   ]
  },
  {
   "cell_type": "code",
   "execution_count": 102,
   "metadata": {},
   "outputs": [],
   "source": [
    "s3 = boto3.client('s3', region_name = 'eu-west-1', aws_access_key_id = 'aiufnioewnrvoiw', aws_secret_access_key = 'aiowuerniunwviunw')\n"
   ]
  },
  {
   "cell_type": "code",
   "execution_count": 103,
   "metadata": {},
   "outputs": [],
   "source": [
    "obj = s3.get_object(Bucket = 'data-handling-public', Key =  'products.csv')"
   ]
  },
  {
   "cell_type": "code",
   "execution_count": 105,
   "metadata": {},
   "outputs": [],
   "source": [
    "df_products = pd.read_csv(obj['Body'], index_col = 0)"
   ]
  },
  {
   "cell_type": "code",
   "execution_count": 106,
   "metadata": {},
   "outputs": [
    {
     "data": {
      "text/html": [
       "<div>\n",
       "<style scoped>\n",
       "    .dataframe tbody tr th:only-of-type {\n",
       "        vertical-align: middle;\n",
       "    }\n",
       "\n",
       "    .dataframe tbody tr th {\n",
       "        vertical-align: top;\n",
       "    }\n",
       "\n",
       "    .dataframe thead th {\n",
       "        text-align: right;\n",
       "    }\n",
       "</style>\n",
       "<table border=\"1\" class=\"dataframe\">\n",
       "  <thead>\n",
       "    <tr style=\"text-align: right;\">\n",
       "      <th></th>\n",
       "      <th>product_name</th>\n",
       "      <th>product_price</th>\n",
       "      <th>weight</th>\n",
       "      <th>category</th>\n",
       "      <th>EAN</th>\n",
       "      <th>date_added</th>\n",
       "      <th>uuid</th>\n",
       "      <th>removed</th>\n",
       "      <th>product_code</th>\n",
       "    </tr>\n",
       "  </thead>\n",
       "  <tbody>\n",
       "    <tr>\n",
       "      <th>0</th>\n",
       "      <td>FurReal Dazzlin' Dimples My Playful Dolphin</td>\n",
       "      <td>£39.99</td>\n",
       "      <td>1.6kg</td>\n",
       "      <td>toys-and-games</td>\n",
       "      <td>7425710935115</td>\n",
       "      <td>2005-12-02</td>\n",
       "      <td>83dc0a69-f96f-4c34-bcb7-928acae19a94</td>\n",
       "      <td>Still_avaliable</td>\n",
       "      <td>R7-3126933h</td>\n",
       "    </tr>\n",
       "    <tr>\n",
       "      <th>1</th>\n",
       "      <td>Tiffany's World Day Out At The Park</td>\n",
       "      <td>£12.99</td>\n",
       "      <td>0.48kg</td>\n",
       "      <td>toys-and-games</td>\n",
       "      <td>487128731892</td>\n",
       "      <td>2006-01-09</td>\n",
       "      <td>712254d7-aea7-4310-aff8-8bcdd0aec7ff</td>\n",
       "      <td>Still_avaliable</td>\n",
       "      <td>C2-7287916l</td>\n",
       "    </tr>\n",
       "    <tr>\n",
       "      <th>2</th>\n",
       "      <td>Tiffany's World Pups Picnic Playset</td>\n",
       "      <td>£7.00</td>\n",
       "      <td>590g</td>\n",
       "      <td>toys-and-games</td>\n",
       "      <td>1945816904649</td>\n",
       "      <td>1997-03-29</td>\n",
       "      <td>b089ef6f-b628-4e37-811d-fffe0102ba64</td>\n",
       "      <td>Still_avaliable</td>\n",
       "      <td>S7-1175877v</td>\n",
       "    </tr>\n",
       "    <tr>\n",
       "      <th>3</th>\n",
       "      <td>Tiffany's World Wildlife Park Adventures</td>\n",
       "      <td>£12.99</td>\n",
       "      <td>540g</td>\n",
       "      <td>toys-and-games</td>\n",
       "      <td>1569790890899</td>\n",
       "      <td>2013-03-20</td>\n",
       "      <td>d55de422-8b98-47d6-9991-e4bc4c5c0cb0</td>\n",
       "      <td>Removed</td>\n",
       "      <td>D8-8421505n</td>\n",
       "    </tr>\n",
       "    <tr>\n",
       "      <th>4</th>\n",
       "      <td>Cosatto Cosy Dolls Pram</td>\n",
       "      <td>£30.00</td>\n",
       "      <td>1.91kg</td>\n",
       "      <td>toys-and-games</td>\n",
       "      <td>7142740213920</td>\n",
       "      <td>2007-12-23</td>\n",
       "      <td>7945b657-cb02-4cc5-96cf-f65ed0a8f235</td>\n",
       "      <td>Still_avaliable</td>\n",
       "      <td>B6-2596063a</td>\n",
       "    </tr>\n",
       "    <tr>\n",
       "      <th>...</th>\n",
       "      <td>...</td>\n",
       "      <td>...</td>\n",
       "      <td>...</td>\n",
       "      <td>...</td>\n",
       "      <td>...</td>\n",
       "      <td>...</td>\n",
       "      <td>...</td>\n",
       "      <td>...</td>\n",
       "      <td>...</td>\n",
       "    </tr>\n",
       "    <tr>\n",
       "      <th>1848</th>\n",
       "      <td>Goodmans Qi Autosense In Car Phone Holder</td>\n",
       "      <td>£15.00</td>\n",
       "      <td>125g</td>\n",
       "      <td>diy</td>\n",
       "      <td>8185827751600</td>\n",
       "      <td>2020-08-28</td>\n",
       "      <td>3ff21cb1-8e90-499d-b5a0-6839fb83e70f</td>\n",
       "      <td>Still_avaliable</td>\n",
       "      <td>x4-2227164k</td>\n",
       "    </tr>\n",
       "    <tr>\n",
       "      <th>1849</th>\n",
       "      <td>Goodmans Qi Wireless Charging Phone Stand</td>\n",
       "      <td>£15.00</td>\n",
       "      <td>134g</td>\n",
       "      <td>diy</td>\n",
       "      <td>9769724533935</td>\n",
       "      <td>2012-05-20</td>\n",
       "      <td>a7910f74-c2b6-4144-98b7-30ca68f34d2d</td>\n",
       "      <td>Still_avaliable</td>\n",
       "      <td>i3-8338545Z</td>\n",
       "    </tr>\n",
       "    <tr>\n",
       "      <th>1850</th>\n",
       "      <td>RAC 12V Wet &amp; Dry Vacuum</td>\n",
       "      <td>£18.00</td>\n",
       "      <td>820g</td>\n",
       "      <td>diy</td>\n",
       "      <td>3113855860327</td>\n",
       "      <td>1993-11-28</td>\n",
       "      <td>66d3efa0-f480-4da9-893b-e8aaff53e27b</td>\n",
       "      <td>Still_avaliable</td>\n",
       "      <td>n4-1642658b</td>\n",
       "    </tr>\n",
       "    <tr>\n",
       "      <th>1851</th>\n",
       "      <td>Goodmans Qi Autosense In Car Phone Holder</td>\n",
       "      <td>£15.00</td>\n",
       "      <td>125g</td>\n",
       "      <td>diy</td>\n",
       "      <td>9195087467400</td>\n",
       "      <td>2016-09-20</td>\n",
       "      <td>efb472f1-8f00-448e-a874-9fa9812eeab5</td>\n",
       "      <td>Still_avaliable</td>\n",
       "      <td>A3-7619070S</td>\n",
       "    </tr>\n",
       "    <tr>\n",
       "      <th>1852</th>\n",
       "      <td>Beldray Telescopic Ladder 2.9m</td>\n",
       "      <td>£69.00</td>\n",
       "      <td>9.4kg</td>\n",
       "      <td>diy</td>\n",
       "      <td>8518402353072</td>\n",
       "      <td>2006-10-07</td>\n",
       "      <td>cfe701da-6493-4a7f-83cf-9aab1650f689</td>\n",
       "      <td>Still_avaliable</td>\n",
       "      <td>i6-2851854w</td>\n",
       "    </tr>\n",
       "  </tbody>\n",
       "</table>\n",
       "<p>1853 rows × 9 columns</p>\n",
       "</div>"
      ],
      "text/plain": [
       "                                     product_name product_price  weight   \n",
       "0     FurReal Dazzlin' Dimples My Playful Dolphin        £39.99   1.6kg  \\\n",
       "1             Tiffany's World Day Out At The Park        £12.99  0.48kg   \n",
       "2             Tiffany's World Pups Picnic Playset         £7.00    590g   \n",
       "3        Tiffany's World Wildlife Park Adventures        £12.99    540g   \n",
       "4                         Cosatto Cosy Dolls Pram        £30.00  1.91kg   \n",
       "...                                           ...           ...     ...   \n",
       "1848    Goodmans Qi Autosense In Car Phone Holder        £15.00    125g   \n",
       "1849    Goodmans Qi Wireless Charging Phone Stand        £15.00    134g   \n",
       "1850                     RAC 12V Wet & Dry Vacuum        £18.00    820g   \n",
       "1851    Goodmans Qi Autosense In Car Phone Holder        £15.00    125g   \n",
       "1852               Beldray Telescopic Ladder 2.9m        £69.00   9.4kg   \n",
       "\n",
       "            category            EAN  date_added   \n",
       "0     toys-and-games  7425710935115  2005-12-02  \\\n",
       "1     toys-and-games   487128731892  2006-01-09   \n",
       "2     toys-and-games  1945816904649  1997-03-29   \n",
       "3     toys-and-games  1569790890899  2013-03-20   \n",
       "4     toys-and-games  7142740213920  2007-12-23   \n",
       "...              ...            ...         ...   \n",
       "1848             diy  8185827751600  2020-08-28   \n",
       "1849             diy  9769724533935  2012-05-20   \n",
       "1850             diy  3113855860327  1993-11-28   \n",
       "1851             diy  9195087467400  2016-09-20   \n",
       "1852             diy  8518402353072  2006-10-07   \n",
       "\n",
       "                                      uuid          removed product_code  \n",
       "0     83dc0a69-f96f-4c34-bcb7-928acae19a94  Still_avaliable  R7-3126933h  \n",
       "1     712254d7-aea7-4310-aff8-8bcdd0aec7ff  Still_avaliable  C2-7287916l  \n",
       "2     b089ef6f-b628-4e37-811d-fffe0102ba64  Still_avaliable  S7-1175877v  \n",
       "3     d55de422-8b98-47d6-9991-e4bc4c5c0cb0          Removed  D8-8421505n  \n",
       "4     7945b657-cb02-4cc5-96cf-f65ed0a8f235  Still_avaliable  B6-2596063a  \n",
       "...                                    ...              ...          ...  \n",
       "1848  3ff21cb1-8e90-499d-b5a0-6839fb83e70f  Still_avaliable  x4-2227164k  \n",
       "1849  a7910f74-c2b6-4144-98b7-30ca68f34d2d  Still_avaliable  i3-8338545Z  \n",
       "1850  66d3efa0-f480-4da9-893b-e8aaff53e27b  Still_avaliable  n4-1642658b  \n",
       "1851  efb472f1-8f00-448e-a874-9fa9812eeab5  Still_avaliable  A3-7619070S  \n",
       "1852  cfe701da-6493-4a7f-83cf-9aab1650f689  Still_avaliable  i6-2851854w  \n",
       "\n",
       "[1853 rows x 9 columns]"
      ]
     },
     "execution_count": 106,
     "metadata": {},
     "output_type": "execute_result"
    }
   ],
   "source": [
    "df_products"
   ]
  },
  {
   "cell_type": "code",
   "execution_count": 107,
   "metadata": {},
   "outputs": [],
   "source": [
    "def clean_weights(x):\n",
    "    if type(x) == float:\n",
    "        return x \n",
    "    elif 'kg' in x:\n",
    "        return float(x.replace('kg', ''))*1000\n",
    "    elif 'ml' in x: \n",
    "        return float(x.replace('ml', ''))\n",
    "    elif x.isnumeric():\n",
    "        return float(x)   \n",
    "    elif 'g' in x:\n",
    "        if 'x' in x:\n",
    "            x = x.replace('g', '').replace(' ', '')\n",
    "            x = x.split('x')\n",
    "            result = 1 \n",
    "            for item in x: \n",
    "                result = result * float(item)\n",
    "            return result \n",
    "        return float(x.replace('g', '').replace(' ', ''))\n",
    "    elif 'oz' in x:\n",
    "        return float(x.replace('oz', ''))*28.35\n",
    "    else: \n",
    "        print(x) \n",
    "        return None\n",
    "\n",
    "\n"
   ]
  },
  {
   "cell_type": "code",
   "execution_count": 108,
   "metadata": {},
   "outputs": [],
   "source": [
    "def convert_product_weights(df):\n",
    "    df['weight'] = df['weight'].apply(clean_weights)\n",
    "\n",
    "    return df\n"
   ]
  },
  {
   "cell_type": "code",
   "execution_count": 109,
   "metadata": {},
   "outputs": [
    {
     "name": "stdout",
     "output_type": "stream",
     "text": [
      "9GO9NZ5JTL\n",
      "Z8ZTDGUZVU\n",
      "MX180RYSHX\n"
     ]
    }
   ],
   "source": [
    "df_products = convert_product_weights(df_products)"
   ]
  },
  {
   "cell_type": "code",
   "execution_count": 110,
   "metadata": {},
   "outputs": [],
   "source": [
    "def clean_money(x):\n",
    "    if type(x) == float:\n",
    "        return x \n",
    "    if '£' in x: \n",
    "        return float(x.replace('£', ''))\n",
    "    else: \n",
    "        return None \n",
    "    \n",
    "    \n",
    "    "
   ]
  },
  {
   "cell_type": "code",
   "execution_count": 111,
   "metadata": {},
   "outputs": [],
   "source": [
    "def date_format(x):\n",
    "    try: \n",
    "        if '-' in x:\n",
    "            x = list(map(int, x.split('-')))\n",
    "            return datetime.date(x[0],x[1],x[2])\n",
    "        else:\n",
    "            return datetime.datetime.strptime(x, '%B %Y %d').date()\n",
    "    except: \n",
    "        return None"
   ]
  },
  {
   "cell_type": "code",
   "execution_count": 112,
   "metadata": {},
   "outputs": [],
   "source": [
    "def clean_products_data(df):\n",
    "    df['product_price'] = df['product_price'].apply(clean_money)\n",
    "    df['date_added'] = df['date_added'].apply(date_format)\n",
    "    df.dropna(inplace = True)\n",
    "    return df"
   ]
  },
  {
   "cell_type": "code",
   "execution_count": 113,
   "metadata": {},
   "outputs": [],
   "source": [
    "df_products = clean_products_data(df_products)"
   ]
  },
  {
   "cell_type": "code",
   "execution_count": 114,
   "metadata": {},
   "outputs": [
    {
     "name": "stdout",
     "output_type": "stream",
     "text": [
      "<class 'pandas.core.frame.DataFrame'>\n",
      "Index: 1845 entries, 0 to 1852\n",
      "Data columns (total 9 columns):\n",
      " #   Column         Non-Null Count  Dtype  \n",
      "---  ------         --------------  -----  \n",
      " 0   product_name   1845 non-null   object \n",
      " 1   product_price  1845 non-null   float64\n",
      " 2   weight         1845 non-null   float64\n",
      " 3   category       1845 non-null   object \n",
      " 4   EAN            1845 non-null   object \n",
      " 5   date_added     1845 non-null   object \n",
      " 6   uuid           1845 non-null   object \n",
      " 7   removed        1845 non-null   object \n",
      " 8   product_code   1845 non-null   object \n",
      "dtypes: float64(2), object(7)\n",
      "memory usage: 144.1+ KB\n"
     ]
    }
   ],
   "source": [
    "df_products.info()"
   ]
  },
  {
   "cell_type": "code",
   "execution_count": 115,
   "metadata": {},
   "outputs": [
    {
     "data": {
      "text/plain": [
       "product_name      object\n",
       "product_price    float64\n",
       "weight           float64\n",
       "category          object\n",
       "EAN               object\n",
       "date_added        object\n",
       "uuid              object\n",
       "removed           object\n",
       "product_code      object\n",
       "dtype: object"
      ]
     },
     "execution_count": 115,
     "metadata": {},
     "output_type": "execute_result"
    }
   ],
   "source": [
    "df_products.dtypes"
   ]
  },
  {
   "cell_type": "code",
   "execution_count": 118,
   "metadata": {},
   "outputs": [
    {
     "data": {
      "text/plain": [
       "datetime.date(2000, 10, 16)"
      ]
     },
     "execution_count": 118,
     "metadata": {},
     "output_type": "execute_result"
    }
   ],
   "source": []
  },
  {
   "cell_type": "code",
   "execution_count": null,
   "metadata": {},
   "outputs": [],
   "source": []
  }
 ],
 "metadata": {
  "kernelspec": {
   "display_name": "base",
   "language": "python",
   "name": "python3"
  },
  "language_info": {
   "codemirror_mode": {
    "name": "ipython",
    "version": 3
   },
   "file_extension": ".py",
   "mimetype": "text/x-python",
   "name": "python",
   "nbconvert_exporter": "python",
   "pygments_lexer": "ipython3",
   "version": "3.10.9"
  },
  "orig_nbformat": 4
 },
 "nbformat": 4,
 "nbformat_minor": 2
}
